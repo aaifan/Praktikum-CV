{
 "cells": [
  {
   "cell_type": "code",
   "execution_count": 3,
   "metadata": {},
   "outputs": [
    {
     "name": "stdout",
     "output_type": "stream",
     "text": [
      "1.5.3\n",
      "1.2.2\n"
     ]
    }
   ],
   "source": [
    "import cv2 as cv \n",
    "import matplotlib.pyplot as plt \n",
    "import pandas as pd \n",
    "import sklearn as sk \n",
    "\n",
    "print(pd.__version__)\n",
    "print(sk.__version__)"
   ]
  }
 ],
 "metadata": {
  "kernelspec": {
   "display_name": "mesinvirtual",
   "language": "python",
   "name": "python3"
  },
  "language_info": {
   "codemirror_mode": {
    "name": "ipython",
    "version": 3
   },
   "file_extension": ".py",
   "mimetype": "text/x-python",
   "name": "python",
   "nbconvert_exporter": "python",
   "pygments_lexer": "ipython3",
   "version": "3.10.9"
  },
  "orig_nbformat": 4
 },
 "nbformat": 4,
 "nbformat_minor": 2
}
