{
 "cells": [
  {
   "cell_type": "code",
   "execution_count": 6,
   "id": "5e9fdfd1",
   "metadata": {},
   "outputs": [],
   "source": [
    "import cv2 as cv\n",
    "import numpy as np\n",
    "\n",
    "img = cv.imread('lenna.png')\n",
    "cv.imshow('originial',img)\n",
    "#ubah citra ke grayscale\n",
    "img_gray = cv.cvtColor(img,cv.COLOR_BGR2GRAY)\n",
    "img_blur = cv.GaussianBlur(img_gray,(3,3),0)\n",
    "#sobel detection\n",
    "sobelx = cv.Sobel(src=img_blur, ddepth=cv.CV_64F, dx=1, dy=0, ksize=3)\n",
    "sobely = cv.Sobel(src=img_blur, ddepth=cv.CV_64F, dx=0, dy=1, ksize=3)\n",
    "sobelxy = cv.Sobel(src=img_blur, ddepth=cv.CV_64F, dx=1, dy=1, ksize=3)\n",
    "cv.imshow('sobel x',sobelx)\n",
    "cv.imshow('sobel y',sobely)      \n",
    "cv.imshow('sobel xy',sobelxy)  \n",
    "cv.waitKey(10)\n",
    "cv.destroyAllWindows()     "
   ]
  },
  {
   "cell_type": "code",
   "execution_count": null,
   "id": "8cf298c1",
   "metadata": {},
   "outputs": [],
   "source": []
  },
  {
   "cell_type": "code",
   "execution_count": null,
   "id": "26237e1f",
   "metadata": {},
   "outputs": [],
   "source": []
  }
 ],
 "metadata": {
  "kernelspec": {
   "display_name": "Python 3 (ipykernel)",
   "language": "python",
   "name": "python3"
  },
  "language_info": {
   "codemirror_mode": {
    "name": "ipython",
    "version": 3
   },
   "file_extension": ".py",
   "mimetype": "text/x-python",
   "name": "python",
   "nbconvert_exporter": "python",
   "pygments_lexer": "ipython3",
   "version": "3.9.12"
  }
 },
 "nbformat": 4,
 "nbformat_minor": 5
}
