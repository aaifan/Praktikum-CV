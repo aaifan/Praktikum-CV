{
 "cells": [
  {
   "cell_type": "code",
   "execution_count": 1,
   "id": "b6af6942",
   "metadata": {},
   "outputs": [
    {
     "data": {
      "text/plain": [
       "-1"
      ]
     },
     "execution_count": 1,
     "metadata": {},
     "output_type": "execute_result"
    }
   ],
   "source": [
    "import cv2 as cv\n",
    "import numpy as np\n",
    "import matplotlib.pyplot as plt \n",
    "\n",
    "img = cv.imread('image/lenna.png')\n",
    "cv.imshow('originial',img)\n",
    "#ubah citra ke grayscale\n",
    "# img_gray = cv.cvtColor(img,cv.COLOR_BGR2GRAY)\n",
    "# img_blur = cv.GaussianBlur(img_gray,(3,3),0)\n",
    "# #sobel detection\n",
    "# sobelx = cv.Sobel(src=img_blur, ddepth=cv.CV_64F, dx=1, dy=0, ksize=3)\n",
    "# sobely = cv.Sobel(src=img_blur, ddepth=cv.CV_64F, dx=0, dy=1, ksize=3)\n",
    "# sobelxy = cv.Sobel(src=img_blur, ddepth=cv.CV_64F, dx=1, dy=1, ksize=3)\n",
    "# cv.imshow('sobel x',sobelx)\n",
    "# cv.imshow('sobel y',sobely)\n",
    "# cv.imshow('sobel xy',sobelxy)\n",
    "\n",
    "cv.waitKey(0)\n",
    "cv.destroyAllWindows()\n",
    "cv.waitKey(1)"
   ]
  },
  {
   "cell_type": "code",
   "execution_count": null,
   "id": "48637b19",
   "metadata": {},
   "outputs": [],
   "source": [
    "import cv2 as cv\n",
    "import numpy as np\n",
    "import matplotlib.pyplot as plt\n",
    "img = cv.imread('lenna.png')\n",
    "cv.imshow('originial',img)\n",
    "#ubah citra ke grayscale\n",
    "img_gray = cv.cvtColor(img,cv.COLOR_BGR2GRAY)\n",
    "img_blur = cv.GaussianBlur(img_gray,(3,3),0)\n",
    "#canny detection\n",
    "edges = cv.Canny(image=img_blur, threshold1=90, threshold2=200)\n",
    "edges1 = cv.Canny(image=img_blur, threshold1=30, threshold2= 230)\n",
    "cv.imshow('Canny 100',edges)\n",
    "cv.imshow('Canny 90',edges1)\n",
    "\n",
    "\n",
    "#prewitt detection\n",
    "kernelx = np.array([[1,1,1],[0,0,0],[-1,-1,-1]])\n",
    "kernely = np.array([[-1,0,1],[-1,0,1],[-1,0,1]])\n",
    "img_prewittx = cv.filter2D(img_blur, -1, kernelx)\n",
    "img_prewitty = cv.filter2D(img_blur, -1, kernely)\n",
    "img_prewittxy = img_prewittx + img_prewitty\n",
    "cv.imshow('prewit',img_prewittxy)\n",
    "\n",
    "#laplace detection\n",
    "laplace = cv.Laplacian(img_gray,cv.CV_64F)\n",
    "cv.imshow('laplace',laplace)\n",
    "\n",
    "cv.waitKey(0)\n",
    "cv.destroyAllWindows()\n",
    "\n"
   ]
  },
  {
   "cell_type": "code",
   "execution_count": null,
   "id": "ddb82f7c",
   "metadata": {},
   "outputs": [],
   "source": []
  }
 ],
 "metadata": {
  "kernelspec": {
   "display_name": "Python 3 (ipykernel)",
   "language": "python",
   "name": "python3"
  },
  "language_info": {
   "codemirror_mode": {
    "name": "ipython",
    "version": 3
   },
   "file_extension": ".py",
   "mimetype": "text/x-python",
   "name": "python",
   "nbconvert_exporter": "python",
   "pygments_lexer": "ipython3",
   "version": "3.10.9"
  }
 },
 "nbformat": 4,
 "nbformat_minor": 5
}
