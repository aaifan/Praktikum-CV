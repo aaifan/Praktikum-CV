{
 "cells": [
  {
   "cell_type": "code",
   "execution_count": null,
   "id": "d054a523",
   "metadata": {},
   "outputs": [],
   "source": [
    "import cv2 as cv\n",
    "import numpy as np\n",
    "import matplotlib.pyplot as plt\n",
    "img = cv.imread('lenna.png', cv.IMREAD_GRAYSCALE)\n",
    "#img = cv.imread('lenna.png',0)\n",
    "ret,thresh1 = cv.threshold(img, 127,255,cv.THRESH_BINARY)\n",
    "ret,thresh2 = cv.threshold(img, 127,255,cv.THRESH_BINARY_INV)\n",
    "ret,thresh3 = cv.threshold(img, 127,255,cv.THRESH_TRUNC)\n",
    "ret,thresh4 = cv.threshold(img, 127,255,cv.THRESH_TOZERO)\n",
    "ret,thresh5 = cv.threshold(img, 127,255,cv.THRESH_TOZERO_INV)\n",
    "#cv.imwrite('hasil_threshold.jpg',dst)\n",
    "cv.imshow('1',thresh1)\n",
    "cv.imshow('2',thresh2)\n",
    "cv.imshow('3',thresh3)\n",
    "cv.imshow('4',thresh4)\n",
    "cv.imshow('5',thresh5)\n",
    "cv.waitKey(0)\n",
    "cv.destroyAllWindows()"
   ]
  },
  {
   "cell_type": "code",
   "execution_count": null,
   "id": "dc389ecf",
   "metadata": {},
   "outputs": [],
   "source": [
    "import cv2 as cv\n",
    "img = cv.imread('lenna.png', cv.IMREAD_GRAYSCALE)\n",
    "ret,thresh1 = cv.threshold(img, 127,255,cv.THRESH_BINARY)\n",
    "th2 = cv.adaptiveThreshold(img,255,cv.ADAPTIVE_THRESH_GAUSSIAN_C,cv.THRESH_BINARY,11,2)\n",
    "th3 = cv.adaptiveThreshold(img,255,cv.ADAPTIVE_THRESH_MEAN_C,cv.THRESH_BINARY,11,2)\n",
    "cv.imshow('Global threshold',thresh1)\n",
    "cv.imshow('Adaptif threshold',th2)\n",
    "cv.imshow('Adaptif mean',th3)\n",
    "cv.waitKey(0)\n",
    "cv.destroyAllWindows()"
   ]
  },
  {
   "cell_type": "code",
   "execution_count": null,
   "id": "15017e25",
   "metadata": {},
   "outputs": [],
   "source": [
    "import cv2 as cv\n",
    "img = cv.imread('lenna.png', cv.IMREAD_GRAYSCALE)\n",
    "ret,thresh1 = cv.threshold(img, 127,255,cv.THRESH_BINARY)\n",
    "ret,thresh2 = cv.threshold(img,0,255,cv.THRESH_OTSU)\n",
    "cv.imshow('Original',img)\n",
    "cv.imshow('Global threshold',thresh1)\n",
    "cv.imshow('Otsu threshold',thresh2)\n",
    "cv.waitKey()\n",
    "cv.destroyAllWindows()"
   ]
  },
  {
   "cell_type": "code",
   "execution_count": null,
   "id": "a3222dde",
   "metadata": {},
   "outputs": [],
   "source": []
  }
 ],
 "metadata": {
  "kernelspec": {
   "display_name": "Python 3 (ipykernel)",
   "language": "python",
   "name": "python3"
  },
  "language_info": {
   "codemirror_mode": {
    "name": "ipython",
    "version": 3
   },
   "file_extension": ".py",
   "mimetype": "text/x-python",
   "name": "python",
   "nbconvert_exporter": "python",
   "pygments_lexer": "ipython3",
   "version": "3.9.12"
  }
 },
 "nbformat": 4,
 "nbformat_minor": 5
}
